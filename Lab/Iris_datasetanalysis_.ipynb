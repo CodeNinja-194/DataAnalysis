{
  "nbformat": 4,
  "nbformat_minor": 0,
  "metadata": {
    "colab": {
      "provenance": []
    },
    "kernelspec": {
      "name": "python3",
      "display_name": "Python 3"
    },
    "language_info": {
      "name": "python"
    }
  },
  "cells": [
    {
      "cell_type": "code",
      "execution_count": null,
      "metadata": {
        "colab": {
          "base_uri": "https://localhost:8080/"
        },
        "id": "T3mFAynYfXEO",
        "outputId": "263d3549-479c-46dc-e1b3-d4f18e664b19"
      },
      "outputs": [
        {
          "output_type": "stream",
          "name": "stdout",
          "text": [
            "Mounted at /content/drive\n"
          ]
        }
      ],
      "source": [
        "import numpy as np \n",
        "import pandas as pd\n",
        "import datetime as dt \n",
        "from google.colab import drive\n",
        "drive.mount('/content/drive',force_remount=True)\n"
      ]
    },
    {
      "cell_type": "code",
      "source": [
        "df = pd.read_csv('/content/drive/MyDrive/Colab Notebooks/IRIS.csv')"
      ],
      "metadata": {
        "id": "3cnlC_fMfuG1"
      },
      "execution_count": null,
      "outputs": []
    },
    {
      "cell_type": "code",
      "source": [
        "#2.structure of the IRIS dataset\n",
        "print(\"\\n\\nInfomation \\n\")\n",
        "print(df.info())\n",
        "print(str(df))"
      ],
      "metadata": {
        "colab": {
          "base_uri": "https://localhost:8080/"
        },
        "id": "DostvomBf8MV",
        "outputId": "3cf2b605-4aa6-49aa-e68e-9318d1b1a5a5"
      },
      "execution_count": null,
      "outputs": [
        {
          "output_type": "stream",
          "name": "stdout",
          "text": [
            "\n",
            "\n",
            "Infomation \n",
            "\n",
            "<class 'pandas.core.frame.DataFrame'>\n",
            "RangeIndex: 150 entries, 0 to 149\n",
            "Data columns (total 5 columns):\n",
            " #   Column        Non-Null Count  Dtype  \n",
            "---  ------        --------------  -----  \n",
            " 0   sepal_length  150 non-null    float64\n",
            " 1   sepal_width   150 non-null    float64\n",
            " 2   petal_length  150 non-null    float64\n",
            " 3   petal_width   150 non-null    float64\n",
            " 4   species       150 non-null    object \n",
            "dtypes: float64(4), object(1)\n",
            "memory usage: 6.0+ KB\n",
            "None\n",
            "     sepal_length  sepal_width  petal_length  petal_width         species\n",
            "0             5.1          3.5           1.4          0.2     Iris-setosa\n",
            "1             4.9          3.0           1.4          0.2     Iris-setosa\n",
            "2             4.7          3.2           1.3          0.2     Iris-setosa\n",
            "3             4.6          3.1           1.5          0.2     Iris-setosa\n",
            "4             5.0          3.6           1.4          0.2     Iris-setosa\n",
            "..            ...          ...           ...          ...             ...\n",
            "145           6.7          3.0           5.2          2.3  Iris-virginica\n",
            "146           6.3          2.5           5.0          1.9  Iris-virginica\n",
            "147           6.5          3.0           5.2          2.0  Iris-virginica\n",
            "148           6.2          3.4           5.4          2.3  Iris-virginica\n",
            "149           5.9          3.0           5.1          1.8  Iris-virginica\n",
            "\n",
            "[150 rows x 5 columns]\n"
          ]
        }
      ]
    },
    {
      "cell_type": "code",
      "source": [
        "#3.printing the summary \n",
        "print(\"Summary\\n\")\n",
        "'''print(str(df))'''"
      ],
      "metadata": {
        "colab": {
          "base_uri": "https://localhost:8080/",
          "height": 157
        },
        "id": "yPFhoZL0gFcn",
        "outputId": "b31f1e57-ea71-4da4-b0fb-6a06add608ac"
      },
      "execution_count": null,
      "outputs": [
        {
          "output_type": "stream",
          "name": "stdout",
          "text": [
            "Summary\n",
            "\n"
          ]
        },
        {
          "output_type": "display_data",
          "data": {
            "text/plain": [
              "'     sepal_length  sepal_width  petal_length  petal_width         species\\n0             5.1          3.5           1.4          0.2     Iris-setosa\\n1             4.9          3.0           1.4          0.2     Iris-setosa\\n2             4.7          3.2           1.3          0.2     Iris-setosa\\n3             4.6          3.1           1.5          0.2     Iris-setosa\\n4             5.0          3.6           1.4          0.2     Iris-setosa\\n..            ...          ...           ...          ...             ...\\n145           6.7          3.0           5.2          2.3  Iris-virginica\\n146           6.3          2.5           5.0          1.9  Iris-virginica\\n147           6.5          3.0           5.2          2.0  Iris-virginica\\n148           6.2          3.4           5.4          2.3  Iris-virginica\\n149           5.9          3.0           5.1          1.8  Iris-virginica\\n\\n[150 rows x 5 columns]'"
            ],
            "application/vnd.google.colaboratory.intrinsic+json": {
              "type": "string"
            }
          },
          "metadata": {}
        }
      ]
    },
    {
      "cell_type": "code",
      "source": [
        "#4.printing the columns\n",
        "print(df.columns)\n",
        "\n",
        "print('\\n')\n",
        "\n",
        "print(df.shape)"
      ],
      "metadata": {
        "colab": {
          "base_uri": "https://localhost:8080/",
          "height": 235
        },
        "id": "3qUBVX8KgUKV",
        "outputId": "e3d701de-e3a8-4ffc-8cc2-39e4a002722f"
      },
      "execution_count": null,
      "outputs": [
        {
          "output_type": "error",
          "ename": "NameError",
          "evalue": "ignored",
          "traceback": [
            "\u001b[0;31m---------------------------------------------------------------------------\u001b[0m",
            "\u001b[0;31mNameError\u001b[0m                                 Traceback (most recent call last)",
            "\u001b[0;32m<ipython-input-1-46a225eef5a6>\u001b[0m in \u001b[0;36m<module>\u001b[0;34m\u001b[0m\n\u001b[1;32m      1\u001b[0m \u001b[0;31m#4.printing the columns\u001b[0m\u001b[0;34m\u001b[0m\u001b[0;34m\u001b[0m\u001b[0;34m\u001b[0m\u001b[0m\n\u001b[0;32m----> 2\u001b[0;31m \u001b[0mprint\u001b[0m\u001b[0;34m(\u001b[0m\u001b[0mdf\u001b[0m\u001b[0;34m.\u001b[0m\u001b[0mcolumns\u001b[0m\u001b[0;34m)\u001b[0m\u001b[0;34m\u001b[0m\u001b[0;34m\u001b[0m\u001b[0m\n\u001b[0m\u001b[1;32m      3\u001b[0m \u001b[0;34m\u001b[0m\u001b[0m\n\u001b[1;32m      4\u001b[0m \u001b[0mprint\u001b[0m\u001b[0;34m(\u001b[0m\u001b[0;34m'\\n'\u001b[0m\u001b[0;34m)\u001b[0m\u001b[0;34m\u001b[0m\u001b[0;34m\u001b[0m\u001b[0m\n\u001b[1;32m      5\u001b[0m \u001b[0;34m\u001b[0m\u001b[0m\n",
            "\u001b[0;31mNameError\u001b[0m: name 'df' is not defined"
          ]
        }
      ]
    },
    {
      "cell_type": "code",
      "source": [
        "#5. printing the rows\n",
        "print(df)"
      ],
      "metadata": {
        "colab": {
          "base_uri": "https://localhost:8080/"
        },
        "id": "RqWGZ-bUgn2F",
        "outputId": "66d66848-b434-41ba-e0b9-fb5aaadef7c2"
      },
      "execution_count": null,
      "outputs": [
        {
          "output_type": "stream",
          "name": "stdout",
          "text": [
            "     sepal_length  sepal_width  petal_length  petal_width         species\n",
            "0             5.1          3.5           1.4          0.2     Iris-setosa\n",
            "1             4.9          3.0           1.4          0.2     Iris-setosa\n",
            "2             4.7          3.2           1.3          0.2     Iris-setosa\n",
            "3             4.6          3.1           1.5          0.2     Iris-setosa\n",
            "4             5.0          3.6           1.4          0.2     Iris-setosa\n",
            "..            ...          ...           ...          ...             ...\n",
            "145           6.7          3.0           5.2          2.3  Iris-virginica\n",
            "146           6.3          2.5           5.0          1.9  Iris-virginica\n",
            "147           6.5          3.0           5.2          2.0  Iris-virginica\n",
            "148           6.2          3.4           5.4          2.3  Iris-virginica\n",
            "149           5.9          3.0           5.1          1.8  Iris-virginica\n",
            "\n",
            "[150 rows x 5 columns]\n"
          ]
        }
      ]
    },
    {
      "cell_type": "code",
      "source": [
        "#6.\tUse duplicated() function to print the logical vector indicating the duplicate values present in the dataset iris \n",
        "print(df.duplicated())\n"
      ],
      "metadata": {
        "colab": {
          "base_uri": "https://localhost:8080/"
        },
        "id": "WF6h7-SFhpjP",
        "outputId": "f59679e4-82dc-4856-c45f-684e2e6e6fd9"
      },
      "execution_count": null,
      "outputs": [
        {
          "output_type": "stream",
          "name": "stdout",
          "text": [
            "0      False\n",
            "1      False\n",
            "2      False\n",
            "3      False\n",
            "4      False\n",
            "       ...  \n",
            "145    False\n",
            "146    False\n",
            "147    False\n",
            "148    False\n",
            "149    False\n",
            "Length: 150, dtype: bool\n"
          ]
        }
      ]
    },
    {
      "cell_type": "code",
      "source": [
        "#7. Extracting the duplicating values\n",
        "print(df[df.duplicated()])"
      ],
      "metadata": {
        "colab": {
          "base_uri": "https://localhost:8080/"
        },
        "id": "4x-wSaLwh9yq",
        "outputId": "07bd7c6d-01b9-4eb4-844e-79f5b3d47bd0"
      },
      "execution_count": null,
      "outputs": [
        {
          "output_type": "stream",
          "name": "stdout",
          "text": [
            "     sepal_length  sepal_width  petal_length  petal_width         species\n",
            "34            4.9          3.1           1.5          0.1     Iris-setosa\n",
            "37            4.9          3.1           1.5          0.1     Iris-setosa\n",
            "142           5.8          2.7           5.1          1.9  Iris-virginica\n"
          ]
        }
      ]
    },
    {
      "cell_type": "code",
      "source": [
        "#8.Extract the Unique elements\n",
        "print(df.drop_duplicates())"
      ],
      "metadata": {
        "colab": {
          "base_uri": "https://localhost:8080/"
        },
        "id": "XX0Q-1SvifYf",
        "outputId": "671e169b-909b-4a6b-bea1-2d18e8ece1ac"
      },
      "execution_count": null,
      "outputs": [
        {
          "output_type": "stream",
          "name": "stdout",
          "text": [
            "     sepal_length  sepal_width  petal_length  petal_width         species\n",
            "0             5.1          3.5           1.4          0.2     Iris-setosa\n",
            "1             4.9          3.0           1.4          0.2     Iris-setosa\n",
            "2             4.7          3.2           1.3          0.2     Iris-setosa\n",
            "3             4.6          3.1           1.5          0.2     Iris-setosa\n",
            "4             5.0          3.6           1.4          0.2     Iris-setosa\n",
            "..            ...          ...           ...          ...             ...\n",
            "145           6.7          3.0           5.2          2.3  Iris-virginica\n",
            "146           6.3          2.5           5.0          1.9  Iris-virginica\n",
            "147           6.5          3.0           5.2          2.0  Iris-virginica\n",
            "148           6.2          3.4           5.4          2.3  Iris-virginica\n",
            "149           5.9          3.0           5.1          1.8  Iris-virginica\n",
            "\n",
            "[147 rows x 5 columns]\n"
          ]
        }
      ]
    },
    {
      "cell_type": "code",
      "source": [
        "#9 printing the indices of the duplicated data\n",
        "a=df.loc[df.duplicated(),:]\n",
        "print(a.index)"
      ],
      "metadata": {
        "colab": {
          "base_uri": "https://localhost:8080/"
        },
        "id": "k2MjEdnFlcUi",
        "outputId": "edabe3e8-d0eb-4d10-fb94-d7e5d6a89223"
      },
      "execution_count": null,
      "outputs": [
        {
          "output_type": "stream",
          "name": "stdout",
          "text": [
            "Int64Index([34, 37, 142], dtype='int64')\n"
          ]
        }
      ]
    },
    {
      "cell_type": "code",
      "source": [
        "#10 .printing the indices of duplicate dataset\n",
        "x=df.drop_duplicates()\n",
        "print(x.index)"
      ],
      "metadata": {
        "colab": {
          "base_uri": "https://localhost:8080/"
        },
        "id": "oiHPSr3Qm5pg",
        "outputId": "5e56d2db-f28d-4fa9-cfe0-f8fbc8543b10"
      },
      "execution_count": null,
      "outputs": [
        {
          "output_type": "stream",
          "name": "stdout",
          "text": [
            "Int64Index([  0,   1,   2,   3,   4,   5,   6,   7,   8,   9,\n",
            "            ...\n",
            "            139, 140, 141, 143, 144, 145, 146, 147, 148, 149],\n",
            "           dtype='int64', length=147)\n"
          ]
        }
      ]
    },
    {
      "cell_type": "code",
      "source": [
        "#11.\tHow many unique elements are in the dataset iris\n",
        "unique_count=df.drop_duplicates().count()\n",
        "print(unique_count)"
      ],
      "metadata": {
        "colab": {
          "base_uri": "https://localhost:8080/"
        },
        "id": "C7HBXkeYm5ul",
        "outputId": "f74eddcc-eea3-43b4-efb5-1eb31b2dc2ce"
      },
      "execution_count": null,
      "outputs": [
        {
          "output_type": "stream",
          "name": "stdout",
          "text": [
            "sepal_length    147\n",
            "sepal_width     147\n",
            "petal_length    147\n",
            "petal_width     147\n",
            "species         147\n",
            "dtype: int64\n"
          ]
        }
      ]
    },
    {
      "cell_type": "code",
      "source": [
        "#12.no.of duplicates rows in dataset\n",
        "duplicate_count = df.duplicated().sum()\n",
        "print(duplicate_count)\n"
      ],
      "metadata": {
        "colab": {
          "base_uri": "https://localhost:8080/"
        },
        "id": "T8fHPA6jnFZd",
        "outputId": "c00d4274-54da-4ec4-ff20-9bd6616dcafb"
      },
      "execution_count": null,
      "outputs": [
        {
          "output_type": "stream",
          "name": "stdout",
          "text": [
            "3\n"
          ]
        }
      ]
    },
    {
      "cell_type": "code",
      "source": [
        "#13.sorted elements in  the dataset Iris\n",
        "df_sorted = df.sort_index(axis=0)\n",
        "print(df_sorted)"
      ],
      "metadata": {
        "colab": {
          "base_uri": "https://localhost:8080/"
        },
        "id": "TI0GD90inxQo",
        "outputId": "b85298fc-a1f3-48ea-e49b-5187a86763ac"
      },
      "execution_count": null,
      "outputs": [
        {
          "output_type": "stream",
          "name": "stdout",
          "text": [
            "     sepal_length  sepal_width  petal_length  petal_width         species\n",
            "0             5.1          3.5           1.4          0.2     Iris-setosa\n",
            "1             4.9          3.0           1.4          0.2     Iris-setosa\n",
            "2             4.7          3.2           1.3          0.2     Iris-setosa\n",
            "3             4.6          3.1           1.5          0.2     Iris-setosa\n",
            "4             5.0          3.6           1.4          0.2     Iris-setosa\n",
            "..            ...          ...           ...          ...             ...\n",
            "145           6.7          3.0           5.2          2.3  Iris-virginica\n",
            "146           6.3          2.5           5.0          1.9  Iris-virginica\n",
            "147           6.5          3.0           5.2          2.0  Iris-virginica\n",
            "148           6.2          3.4           5.4          2.3  Iris-virginica\n",
            "149           5.9          3.0           5.1          1.8  Iris-virginica\n",
            "\n",
            "[150 rows x 5 columns]\n"
          ]
        }
      ]
    },
    {
      "cell_type": "code",
      "source": [
        "#14.whether any missing values are in the dataset iris\n",
        "print(df.isnull().sum().sum())"
      ],
      "metadata": {
        "colab": {
          "base_uri": "https://localhost:8080/"
        },
        "id": "QpbqWikHoks2",
        "outputId": "76a930f3-223a-4cf2-88bf-f0e52954ce23"
      },
      "execution_count": null,
      "outputs": [
        {
          "output_type": "stream",
          "name": "stdout",
          "text": [
            "0\n"
          ]
        }
      ]
    },
    {
      "cell_type": "code",
      "source": [
        "#15.\tdisplay how many missing values are present in each column.\n",
        "missing_counts = df.isnull().sum()\n",
        "print(missing_counts)"
      ],
      "metadata": {
        "colab": {
          "base_uri": "https://localhost:8080/"
        },
        "id": "eoGsGXglosn9",
        "outputId": "57e28f97-8890-4748-fcd0-4e29571bffb4"
      },
      "execution_count": null,
      "outputs": [
        {
          "output_type": "stream",
          "name": "stdout",
          "text": [
            "sepal_length    0\n",
            "sepal_width     0\n",
            "petal_length    0\n",
            "petal_width     0\n",
            "species         0\n",
            "dtype: int64\n"
          ]
        }
      ]
    },
    {
      "cell_type": "code",
      "source": [
        "#16.\treplace all missing values with zero\n",
        "'''df.fillna(0)'''\n",
        "df = df.fillna({'sepal_length': 0, 'sepal_width': 0, 'petal_length': 0, 'petal_width': 0})\n",
        "print(df)"
      ],
      "metadata": {
        "colab": {
          "base_uri": "https://localhost:8080/"
        },
        "id": "Q-2-Jztco07x",
        "outputId": "d48b85ea-b26d-417d-ecc5-211dd14402c5"
      },
      "execution_count": null,
      "outputs": [
        {
          "output_type": "stream",
          "name": "stdout",
          "text": [
            "     sepal_length  sepal_width  petal_length  petal_width         species\n",
            "0             5.1          3.5           1.4          0.2     Iris-setosa\n",
            "1             4.9          3.0           1.4          0.2     Iris-setosa\n",
            "2             4.7          3.2           1.3          0.2     Iris-setosa\n",
            "3             4.6          3.1           1.5          0.2     Iris-setosa\n",
            "4             5.0          3.6           1.4          0.2     Iris-setosa\n",
            "..            ...          ...           ...          ...             ...\n",
            "145           6.7          3.0           5.2          2.3  Iris-virginica\n",
            "146           6.3          2.5           5.0          1.9  Iris-virginica\n",
            "147           6.5          3.0           5.2          2.0  Iris-virginica\n",
            "148           6.2          3.4           5.4          2.3  Iris-virginica\n",
            "149           5.9          3.0           5.1          1.8  Iris-virginica\n",
            "\n",
            "[150 rows x 5 columns]\n"
          ]
        }
      ]
    },
    {
      "cell_type": "code",
      "source": [
        "#17.. Calculate the petalwidth mean,median,std,variance \n",
        "setosa_df = df.loc[df['species'] == 'Iris-setosa']\n",
        "petal_width_mean = setosa_df['petal_width'].mean()\n",
        "print(\"mean\",petal_width_mean)\n",
        "petal_width_median = setosa_df['petal_width'].median()\n",
        "print(\"median\",petal_width_median)\n",
        "petal_width_std = setosa_df['petal_width'].std()\n",
        "print(\"std\",petal_width_std)\n",
        "petal_width_var = setosa_df['petal_width'].var()\n",
        "print(\"variance\",petal_width_var)"
      ],
      "metadata": {
        "colab": {
          "base_uri": "https://localhost:8080/"
        },
        "id": "tV6-Fg19pUt7",
        "outputId": "10ecfda5-372c-42a1-fb3a-67170caabccc"
      },
      "execution_count": null,
      "outputs": [
        {
          "output_type": "stream",
          "name": "stdout",
          "text": [
            "mean 0.244\n",
            "median 0.2\n",
            "std 0.1072095030816784\n",
            "variance 0.011493877551020411\n"
          ]
        }
      ]
    },
    {
      "cell_type": "code",
      "source": [
        "#18.. printing from 10th row to 20th row \n",
        "print(df.loc[10:20])"
      ],
      "metadata": {
        "colab": {
          "base_uri": "https://localhost:8080/"
        },
        "id": "AK5xbnQNsbee",
        "outputId": "f209f8a7-fd5c-417e-9ebc-6485b9b3e396"
      },
      "execution_count": null,
      "outputs": [
        {
          "output_type": "stream",
          "name": "stdout",
          "text": [
            "    sepal_length  sepal_width  petal_length  petal_width      species\n",
            "10           5.4          3.7           1.5          0.2  Iris-setosa\n",
            "11           4.8          3.4           1.6          0.2  Iris-setosa\n",
            "12           4.8          3.0           1.4          0.1  Iris-setosa\n",
            "13           4.3          3.0           1.1          0.1  Iris-setosa\n",
            "14           5.8          4.0           1.2          0.2  Iris-setosa\n",
            "15           5.7          4.4           1.5          0.4  Iris-setosa\n",
            "16           5.4          3.9           1.3          0.4  Iris-setosa\n",
            "17           5.1          3.5           1.4          0.3  Iris-setosa\n",
            "18           5.7          3.8           1.7          0.3  Iris-setosa\n",
            "19           5.1          3.8           1.5          0.3  Iris-setosa\n",
            "20           5.4          3.4           1.7          0.2  Iris-setosa\n"
          ]
        }
      ]
    },
    {
      "cell_type": "code",
      "source": [
        "#19... printing the species and corresponding  petal length and width \n",
        "print(df[[\"species\",\"petal_length\",\"petal_width\"]])"
      ],
      "metadata": {
        "colab": {
          "base_uri": "https://localhost:8080/"
        },
        "id": "XVG5DZ43sf87",
        "outputId": "6fd1483d-ec2b-4007-9654-9630aca936e1"
      },
      "execution_count": null,
      "outputs": [
        {
          "output_type": "stream",
          "name": "stdout",
          "text": [
            "            species  petal_length  petal_width\n",
            "0       Iris-setosa           1.4          0.2\n",
            "1       Iris-setosa           1.4          0.2\n",
            "2       Iris-setosa           1.3          0.2\n",
            "3       Iris-setosa           1.5          0.2\n",
            "4       Iris-setosa           1.4          0.2\n",
            "..              ...           ...          ...\n",
            "145  Iris-virginica           5.2          2.3\n",
            "146  Iris-virginica           5.0          1.9\n",
            "147  Iris-virginica           5.2          2.0\n",
            "148  Iris-virginica           5.4          2.3\n",
            "149  Iris-virginica           5.1          1.8\n",
            "\n",
            "[150 rows x 3 columns]\n"
          ]
        }
      ]
    },
    {
      "cell_type": "code",
      "source": [
        "#20 display records only with species \"Iris-setosa\"\n",
        "'''print(df[df[\"species\"]==\"Iris-setosa\"])'''\n",
        "setosa_df = df.loc[df['species'] == 'Iris-setosa']\n",
        "print(setosa_df)"
      ],
      "metadata": {
        "colab": {
          "base_uri": "https://localhost:8080/"
        },
        "id": "3wTMPPVPvD62",
        "outputId": "3da23dcb-4f90-4ef9-891a-aed0e5e7994c"
      },
      "execution_count": null,
      "outputs": [
        {
          "output_type": "stream",
          "name": "stdout",
          "text": [
            "    sepal_length  sepal_width  petal_length  petal_width      species\n",
            "0            5.1          3.5           1.4          0.2  Iris-setosa\n",
            "1            4.9          3.0           1.4          0.2  Iris-setosa\n",
            "2            4.7          3.2           1.3          0.2  Iris-setosa\n",
            "3            4.6          3.1           1.5          0.2  Iris-setosa\n",
            "4            5.0          3.6           1.4          0.2  Iris-setosa\n",
            "5            5.4          3.9           1.7          0.4  Iris-setosa\n",
            "6            4.6          3.4           1.4          0.3  Iris-setosa\n",
            "7            5.0          3.4           1.5          0.2  Iris-setosa\n",
            "8            4.4          2.9           1.4          0.2  Iris-setosa\n",
            "9            4.9          3.1           1.5          0.1  Iris-setosa\n",
            "10           5.4          3.7           1.5          0.2  Iris-setosa\n",
            "11           4.8          3.4           1.6          0.2  Iris-setosa\n",
            "12           4.8          3.0           1.4          0.1  Iris-setosa\n",
            "13           4.3          3.0           1.1          0.1  Iris-setosa\n",
            "14           5.8          4.0           1.2          0.2  Iris-setosa\n",
            "15           5.7          4.4           1.5          0.4  Iris-setosa\n",
            "16           5.4          3.9           1.3          0.4  Iris-setosa\n",
            "17           5.1          3.5           1.4          0.3  Iris-setosa\n",
            "18           5.7          3.8           1.7          0.3  Iris-setosa\n",
            "19           5.1          3.8           1.5          0.3  Iris-setosa\n",
            "20           5.4          3.4           1.7          0.2  Iris-setosa\n",
            "21           5.1          3.7           1.5          0.4  Iris-setosa\n",
            "22           4.6          3.6           1.0          0.2  Iris-setosa\n",
            "23           5.1          3.3           1.7          0.5  Iris-setosa\n",
            "24           4.8          3.4           1.9          0.2  Iris-setosa\n",
            "25           5.0          3.0           1.6          0.2  Iris-setosa\n",
            "26           5.0          3.4           1.6          0.4  Iris-setosa\n",
            "27           5.2          3.5           1.5          0.2  Iris-setosa\n",
            "28           5.2          3.4           1.4          0.2  Iris-setosa\n",
            "29           4.7          3.2           1.6          0.2  Iris-setosa\n",
            "30           4.8          3.1           1.6          0.2  Iris-setosa\n",
            "31           5.4          3.4           1.5          0.4  Iris-setosa\n",
            "32           5.2          4.1           1.5          0.1  Iris-setosa\n",
            "33           5.5          4.2           1.4          0.2  Iris-setosa\n",
            "34           4.9          3.1           1.5          0.1  Iris-setosa\n",
            "35           5.0          3.2           1.2          0.2  Iris-setosa\n",
            "36           5.5          3.5           1.3          0.2  Iris-setosa\n",
            "37           4.9          3.1           1.5          0.1  Iris-setosa\n",
            "38           4.4          3.0           1.3          0.2  Iris-setosa\n",
            "39           5.1          3.4           1.5          0.2  Iris-setosa\n",
            "40           5.0          3.5           1.3          0.3  Iris-setosa\n",
            "41           4.5          2.3           1.3          0.3  Iris-setosa\n",
            "42           4.4          3.2           1.3          0.2  Iris-setosa\n",
            "43           5.0          3.5           1.6          0.6  Iris-setosa\n",
            "44           5.1          3.8           1.9          0.4  Iris-setosa\n",
            "45           4.8          3.0           1.4          0.3  Iris-setosa\n",
            "46           5.1          3.8           1.6          0.2  Iris-setosa\n",
            "47           4.6          3.2           1.4          0.2  Iris-setosa\n",
            "48           5.3          3.7           1.5          0.2  Iris-setosa\n",
            "49           5.0          3.3           1.4          0.2  Iris-setosa\n"
          ]
        }
      ]
    },
    {
      "cell_type": "code",
      "source": [
        "#21 count number of times a particular species has occurred.\n",
        "species_counts = df['species'].value_counts()\n",
        "print(species_counts)"
      ],
      "metadata": {
        "colab": {
          "base_uri": "https://localhost:8080/"
        },
        "id": "Q4gke3o4vfcF",
        "outputId": "d74b86d4-960a-4967-9e3a-0b0dddec08de"
      },
      "execution_count": null,
      "outputs": [
        {
          "output_type": "stream",
          "name": "stdout",
          "text": [
            "Iris-setosa        50\n",
            "Iris-versicolor    50\n",
            "Iris-virginica     50\n",
            "Name: species, dtype: int64\n"
          ]
        }
      ]
    },
    {
      "cell_type": "code",
      "source": [
        "#22\tIdentifying minimum and maximum Value of Sepal width.\n",
        "print(\"max sepal width\")\n",
        "print(df[\"sepal_width\"].max())\n",
        "print(\"min sepal width\")\n",
        "print(df[\"sepal_width\"].min())"
      ],
      "metadata": {
        "colab": {
          "base_uri": "https://localhost:8080/"
        },
        "id": "YKaMzHPvwYJ-",
        "outputId": "cac7003e-5eb1-407f-bc65-e38092f44bbc"
      },
      "execution_count": null,
      "outputs": [
        {
          "output_type": "stream",
          "name": "stdout",
          "text": [
            "max sepal width\n",
            "4.4\n",
            "min sepal width\n",
            "2.0\n"
          ]
        }
      ]
    },
    {
      "cell_type": "code",
      "source": [
        "#23.\tAdd new column to store sum of  first column values\n",
        "df[\"sum\"] = df.iloc[:, 0:4].sum(axis=1)\n",
        "\n",
        "# Print the modified dataset\n",
        "print(df[\"sum\"])\n",
        "print(df)"
      ],
      "metadata": {
        "colab": {
          "base_uri": "https://localhost:8080/"
        },
        "id": "A_pa1lkCwpyF",
        "outputId": "64458084-71f7-489e-ab02-04df259dcd86"
      },
      "execution_count": null,
      "outputs": [
        {
          "output_type": "stream",
          "name": "stdout",
          "text": [
            "0      10.2\n",
            "1       9.5\n",
            "2       9.4\n",
            "3       9.4\n",
            "4      10.2\n",
            "       ... \n",
            "145    17.2\n",
            "146    15.7\n",
            "147    16.7\n",
            "148    17.3\n",
            "149    15.8\n",
            "Name: sum, Length: 150, dtype: float64\n",
            "     sepal_length  sepal_width  petal_length  petal_width         species  \\\n",
            "0             5.1          3.5           1.4          0.2     Iris-setosa   \n",
            "1             4.9          3.0           1.4          0.2     Iris-setosa   \n",
            "2             4.7          3.2           1.3          0.2     Iris-setosa   \n",
            "3             4.6          3.1           1.5          0.2     Iris-setosa   \n",
            "4             5.0          3.6           1.4          0.2     Iris-setosa   \n",
            "..            ...          ...           ...          ...             ...   \n",
            "145           6.7          3.0           5.2          2.3  Iris-virginica   \n",
            "146           6.3          2.5           5.0          1.9  Iris-virginica   \n",
            "147           6.5          3.0           5.2          2.0  Iris-virginica   \n",
            "148           6.2          3.4           5.4          2.3  Iris-virginica   \n",
            "149           5.9          3.0           5.1          1.8  Iris-virginica   \n",
            "\n",
            "      sum  \n",
            "0    10.2  \n",
            "1     9.5  \n",
            "2     9.4  \n",
            "3     9.4  \n",
            "4    10.2  \n",
            "..    ...  \n",
            "145  17.2  \n",
            "146  15.7  \n",
            "147  16.7  \n",
            "148  17.3  \n",
            "149  15.8  \n",
            "\n",
            "[150 rows x 6 columns]\n"
          ]
        }
      ]
    }
  ]
}
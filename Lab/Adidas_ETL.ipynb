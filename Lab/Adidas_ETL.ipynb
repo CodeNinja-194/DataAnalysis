{
  "nbformat": 4,
  "nbformat_minor": 0,
  "metadata": {
    "colab": {
      "provenance": []
    },
    "kernelspec": {
      "name": "python3",
      "display_name": "Python 3"
    },
    "language_info": {
      "name": "python"
    }
  },
  "cells": [
    {
      "cell_type": "code",
      "execution_count": null,
      "metadata": {
        "colab": {
          "base_uri": "https://localhost:8080/"
        },
        "id": "vECqE7HpsHmM",
        "outputId": "f629f025-195c-4daa-89ea-96cbc26bd6cf"
      },
      "outputs": [
        {
          "output_type": "stream",
          "name": "stdout",
          "text": [
            "Mounted at /content/drive\n"
          ]
        }
      ],
      "source": [
        "\n",
        "import numpy as np \n",
        "import pandas as pd\n",
        "from datetime import datetime\n",
        "from google.colab import drive\n",
        "drive.mount('/content/drive',force_remount=True)"
      ]
    },
    {
      "cell_type": "code",
      "source": [
        "''' df = pd.read_csv('/content/drive/MyDrive/Colab Notebooks/Adidas_US_Sales_Datasets_1_.xlsx') '''\n",
        "df = pd.DataFrame(pd.read_excel(\"/content/drive/MyDrive/Colab Notebooks/Adidas_US_Sales_Datasets_1_.xlsx\"))"
      ],
      "metadata": {
        "id": "oaWL8p-usvMd"
      },
      "execution_count": null,
      "outputs": []
    },
    {
      "cell_type": "code",
      "source": [
        "print(df.info())"
      ],
      "metadata": {
        "colab": {
          "base_uri": "https://localhost:8080/"
        },
        "id": "FjcJiqCxvhmS",
        "outputId": "41ed0113-6871-4fea-8626-27db4ebb6666"
      },
      "execution_count": null,
      "outputs": [
        {
          "output_type": "stream",
          "name": "stdout",
          "text": [
            "<class 'pandas.core.frame.DataFrame'>\n",
            "RangeIndex: 9648 entries, 0 to 9647\n",
            "Data columns (total 13 columns):\n",
            " #   Column            Non-Null Count  Dtype         \n",
            "---  ------            --------------  -----         \n",
            " 0   Retailer          9648 non-null   object        \n",
            " 1   Retailer ID       9648 non-null   int64         \n",
            " 2   Invoice Date      9648 non-null   datetime64[ns]\n",
            " 3   Region            9648 non-null   object        \n",
            " 4   State             9648 non-null   object        \n",
            " 5   City              9648 non-null   object        \n",
            " 6   Product           9648 non-null   object        \n",
            " 7   Price per Unit    9648 non-null   float64       \n",
            " 8   Units Sold        9648 non-null   int64         \n",
            " 9   Total Sales       9648 non-null   float64       \n",
            " 10  Operating Profit  9648 non-null   float64       \n",
            " 11  Operating Margin  9648 non-null   float64       \n",
            " 12  Sales Method      9648 non-null   object        \n",
            "dtypes: datetime64[ns](1), float64(4), int64(2), object(6)\n",
            "memory usage: 980.0+ KB\n",
            "None\n"
          ]
        }
      ]
    },
    {
      "cell_type": "code",
      "source": [
        "#1.\tList all the retailers with retailer id.\n",
        "sd = df.groupby('Retailer')['Retailer ID'].unique()\n",
        "display(sd)"
      ],
      "metadata": {
        "colab": {
          "base_uri": "https://localhost:8080/",
          "height": 156
        },
        "id": "wISBOT9kuUhE",
        "outputId": "0553457a-5d26-4e2f-fb3d-115d807361d6"
      },
      "execution_count": null,
      "outputs": [
        {
          "output_type": "display_data",
          "data": {
            "text/plain": [
              "Retailer\n",
              "Amazon                                      [1185732]\n",
              "Foot Locker               [1185732, 1128299, 1197831]\n",
              "Kohl's           [1189833, 1185732, 1128299, 1197831]\n",
              "Sports Direct             [1197831, 1185732, 1128299]\n",
              "Walmart                   [1185732, 1197831, 1128299]\n",
              "West Gear                 [1128299, 1185732, 1197831]\n",
              "Name: Retailer ID, dtype: object"
            ]
          },
          "metadata": {}
        }
      ]
    },
    {
      "cell_type": "code",
      "source": [
        "#2.\tList all the retailers in every region.\n",
        "grouped = df.groupby('Retailer')['Region'].unique()\n",
        "display(grouped)"
      ],
      "metadata": {
        "colab": {
          "base_uri": "https://localhost:8080/",
          "height": 156
        },
        "id": "YjB1Z9ksvS2y",
        "outputId": "2d1b4df8-b7d6-4151-bb03-31e964431d75"
      },
      "execution_count": null,
      "outputs": [
        {
          "output_type": "display_data",
          "data": {
            "text/plain": [
              "Retailer\n",
              "Amazon           [South, Northeast, West, Southeast, Midwest]\n",
              "Foot Locker      [Northeast, West, Midwest, South, Southeast]\n",
              "Kohl's                      [West, Midwest, Northeast, South]\n",
              "Sports Direct    [Northeast, South, Midwest, Southeast, West]\n",
              "Walmart                   [Northeast, South, West, Southeast]\n",
              "West Gear        [South, West, Northeast, Southeast, Midwest]\n",
              "Name: Region, dtype: object"
            ]
          },
          "metadata": {}
        }
      ]
    },
    {
      "cell_type": "code",
      "source": [
        "#3.\tList the retailers in every city of a state.\n",
        "grouped_state = df.groupby('Retailer')['State'].unique()\n",
        "display(grouped_state)"
      ],
      "metadata": {
        "colab": {
          "base_uri": "https://localhost:8080/",
          "height": 156
        },
        "id": "U3h6eey-xq5q",
        "outputId": "aa5670e2-8cfc-4f15-9f39-a5c0df40f968"
      },
      "execution_count": null,
      "outputs": [
        {
          "output_type": "display_data",
          "data": {
            "text/plain": [
              "Retailer\n",
              "Amazon           [Alabama, Maine, Alaska, North Carolina, Ohio,...\n",
              "Foot Locker      [New York, California, Illinois, Texas, Pennsy...\n",
              "Kohl's           [California, Minnesota, Montana, New York, Wyo...\n",
              "Sports Direct    [New York, Texas, Illinois, Florida, Montana, ...\n",
              "Walmart          [New York, Texas, Hawaii, Florida, Mississippi...\n",
              "West Gear        [Texas, California, Pennsylvania, Nevada, Colo...\n",
              "Name: State, dtype: object"
            ]
          },
          "metadata": {}
        }
      ]
    },
    {
      "cell_type": "code",
      "source": [
        "#4.\tList the products sold by the retailer in every city.\n",
        "grouped_product = df.groupby('Product')['City'].unique()\n",
        "display(grouped_product)"
      ],
      "metadata": {
        "colab": {
          "base_uri": "https://localhost:8080/",
          "height": 156
        },
        "id": "klckH_QsyOtw",
        "outputId": "9dfa5592-b813-4779-97c0-be67f6a5bb6e"
      },
      "execution_count": null,
      "outputs": [
        {
          "output_type": "display_data",
          "data": {
            "text/plain": [
              "Product\n",
              "Men's Apparel                [New York, Houston, San Francisco, Los Angeles...\n",
              "Men's Athletic Footwear      [New York, Houston, San Francisco, Los Angeles...\n",
              "Men's Street Footwear        [New York, Houston, San Francisco, Los Angeles...\n",
              "Women's Apparel              [New York, Houston, San Francisco, Los Angeles...\n",
              "Women's Athletic Footwear    [New York, Houston, San Francisco, Los Angeles...\n",
              "Women's Street Footwear      [New York, Houston, San Francisco, Los Angeles...\n",
              "Name: City, dtype: object"
            ]
          },
          "metadata": {}
        }
      ]
    },
    {
      "cell_type": "code",
      "source": [
        "#5.\tFind the total sales of every retailer.\n",
        "display(df.groupby('Retailer ')['Total Sales'].sum())"
      ],
      "metadata": {
        "colab": {
          "base_uri": "https://localhost:8080/",
          "height": 121
        },
        "id": "i6q5Y4EszTUU",
        "outputId": "9ca6297b-b833-4a37-a4cd-8e91a44d1618"
      },
      "execution_count": null,
      "outputs": [
        {
          "output_type": "display_data",
          "data": {
            "text/plain": [
              "Retailer ID\n",
              "1128299    270205913.0\n",
              "1185732    452315914.0\n",
              "1189833     42083484.0\n",
              "1197831    135296814.0\n",
              "Name: Total Sales, dtype: float64"
            ]
          },
          "metadata": {}
        }
      ]
    },
    {
      "cell_type": "code",
      "source": [
        "#6.\tFind the total sales of the retailers in every city along with profit.\n",
        "sd1=df.groupby(['Retailer','City'])['Operating Profit','Total Sales'].sum()\n",
        "print(sd1)"
      ],
      "metadata": {
        "colab": {
          "base_uri": "https://localhost:8080/"
        },
        "id": "Z57M10_hz18A",
        "outputId": "8b425c86-e25a-4a07-9585-1c0aee441f73"
      },
      "execution_count": null,
      "outputs": [
        {
          "output_type": "stream",
          "name": "stdout",
          "text": [
            "                          Operating Profit  Total Sales\n",
            "Retailer  City                                         \n",
            "Amazon    Anchorage             4143804.75   13365025.0\n",
            "          Birmingham             146947.48     409091.0\n",
            "          Boston                1375377.31    4193590.0\n",
            "          Burlington            5376161.02   13380463.0\n",
            "          Charlotte             1532481.72    3733676.0\n",
            "...                                    ...          ...\n",
            "West Gear Portland              7712540.80   21934257.0\n",
            "          Salt Lake City        3873429.10    9696420.0\n",
            "          San Francisco         9843005.12   33360397.0\n",
            "          Seattle               6469771.84   24862675.0\n",
            "          St. Louis              681457.25    1701133.0\n",
            "\n",
            "[108 rows x 2 columns]\n"
          ]
        },
        {
          "output_type": "stream",
          "name": "stderr",
          "text": [
            "<ipython-input-9-ae09519328eb>:2: FutureWarning: Indexing with multiple keys (implicitly converted to a tuple of keys) will be deprecated, use a list instead.\n",
            "  sd1=df.groupby(['Retailer','City'])['Operating Profit','Total Sales'].sum()\n"
          ]
        }
      ]
    },
    {
      "cell_type": "code",
      "source": [
        "#7.\tFind the total sales &profit of each product sold by the retailer.\n",
        "sd2=df.groupby(['Retailer','Product'])['Operating Profit','Total Sales'].sum()\n",
        "print(sd2)"
      ],
      "metadata": {
        "colab": {
          "base_uri": "https://localhost:8080/"
        },
        "id": "4w_iSz-v6XIe",
        "outputId": "9e275ac3-ab0e-4db6-86d9-bc00882948d2"
      },
      "execution_count": null,
      "outputs": [
        {
          "output_type": "stream",
          "name": "stdout",
          "text": [
            "                                         Operating Profit  Total Sales\n",
            "Retailer      Product                                                 \n",
            "Amazon        Men's Apparel                    3331443.80   10474770.0\n",
            "              Men's Athletic Footwear          4518030.11   12011959.0\n",
            "              Men's Street Footwear            8707658.12   22161652.0\n",
            "              Women's Apparel                  6280071.53   15710639.0\n",
            "              Women's Athletic Footwear        2701607.74    7935255.0\n",
            "              Women's Street Footwear          3279692.01    9404637.0\n",
            "Foot Locker   Men's Apparel                    9942404.61   29508995.0\n",
            "              Men's Athletic Footwear         12409221.49   36480415.0\n",
            "              Men's Street Footwear           23060809.17   57481575.0\n",
            "              Women's Apparel                 17192901.49   43296114.0\n",
            "              Women's Athletic Footwear        8477313.73   24239624.0\n",
            "              Women's Street Footwear          9639474.32   29087997.0\n",
            "Kohl's        Men's Apparel                    5945043.20   14164965.0\n",
            "              Men's Athletic Footwear          5725762.60   17885316.0\n",
            "              Men's Street Footwear            9219819.89   22421073.0\n",
            "              Women's Apparel                  5596172.50   20315239.0\n",
            "              Women's Athletic Footwear        4570693.09   12493869.0\n",
            "              Women's Street Footwear          5753761.30   14834291.0\n",
            "Sports Direct Men's Apparel                    8723914.71   24825286.0\n",
            "              Men's Athletic Footwear         11935672.81   30889734.0\n",
            "              Men's Street Footwear           15837750.43   38672270.0\n",
            "              Women's Apparel                 17832960.67   37113257.0\n",
            "              Women's Athletic Footwear        9688746.39   23145288.0\n",
            "              Women's Street Footwear         10313909.95   27825162.0\n",
            "Walmart       Men's Apparel                    3166591.22   11490680.0\n",
            "              Men's Athletic Footwear          4029257.65   13600404.0\n",
            "              Men's Street Footwear            5438666.13   14924255.0\n",
            "              Women's Apparel                  6348451.03   15316099.0\n",
            "              Women's Athletic Footwear        3239052.49    8762792.0\n",
            "              Women's Street Footwear          3560034.09   10464180.0\n",
            "West Gear     Men's Apparel                   13653632.79   33263936.0\n",
            "              Men's Athletic Footwear         13228943.53   42805852.0\n",
            "              Men's Street Footwear           20537556.88   53165419.0\n",
            "              Women's Apparel                 15400413.34   47287512.0\n",
            "              Women's Athletic Footwear       10298371.50   30055068.0\n",
            "              Women's Street Footwear         12548955.14   36386546.0\n"
          ]
        },
        {
          "output_type": "stream",
          "name": "stderr",
          "text": [
            "<ipython-input-10-38fada86a29c>:2: FutureWarning: Indexing with multiple keys (implicitly converted to a tuple of keys) will be deprecated, use a list instead.\n",
            "  sd2=df.groupby(['Retailer','Product'])['Operating Profit','Total Sales'].sum()\n"
          ]
        }
      ]
    },
    {
      "cell_type": "code",
      "source": [
        "# 8.\tFind the units sold, total sales &profit of the products sold between the dates 1/1/2020 and 4/15/2020.\n",
        "df2 = df[(df['Invoice Date'] >= \"2020-01-01\") & (df['Invoice Date'] <=\"2020-04-15\")]\n",
        "display(df2.groupby(['Product'])['Operating Profit','Total Sales','Units Sold'].sum())\n"
      ],
      "metadata": {
        "colab": {
          "base_uri": "https://localhost:8080/",
          "height": 304
        },
        "id": "Kzm9R9Hn8r6L",
        "outputId": "b30dde70-e695-4a98-ea78-f2d90721d506"
      },
      "execution_count": null,
      "outputs": [
        {
          "output_type": "stream",
          "name": "stderr",
          "text": [
            "<ipython-input-11-f423a47206de>:3: FutureWarning: Indexing with multiple keys (implicitly converted to a tuple of keys) will be deprecated, use a list instead.\n",
            "  display(df2.groupby(['Product'])['Operating Profit','Total Sales','Units Sold'].sum())\n"
          ]
        },
        {
          "output_type": "display_data",
          "data": {
            "text/plain": [
              "                           Operating Profit  Total Sales  Units Sold\n",
              "Product                                                             \n",
              "Men's Apparel                    2876971.09    7030470.0       17060\n",
              "Men's Athletic Footwear          2657923.14    9721277.0       25755\n",
              "Men's Street Footwear            5213987.70   11515677.0       31372\n",
              "Women's Apparel                  2162116.63    9605280.0       22954\n",
              "Women's Athletic Footwear        2398964.20    6889592.0       19980\n",
              "Women's Street Footwear          3022311.95    8014382.0       23442"
            ],
            "text/html": [
              "\n",
              "  <div id=\"df-6d47aae8-e5eb-4b4a-aee2-7ddd941be1ba\">\n",
              "    <div class=\"colab-df-container\">\n",
              "      <div>\n",
              "<style scoped>\n",
              "    .dataframe tbody tr th:only-of-type {\n",
              "        vertical-align: middle;\n",
              "    }\n",
              "\n",
              "    .dataframe tbody tr th {\n",
              "        vertical-align: top;\n",
              "    }\n",
              "\n",
              "    .dataframe thead th {\n",
              "        text-align: right;\n",
              "    }\n",
              "</style>\n",
              "<table border=\"1\" class=\"dataframe\">\n",
              "  <thead>\n",
              "    <tr style=\"text-align: right;\">\n",
              "      <th></th>\n",
              "      <th>Operating Profit</th>\n",
              "      <th>Total Sales</th>\n",
              "      <th>Units Sold</th>\n",
              "    </tr>\n",
              "    <tr>\n",
              "      <th>Product</th>\n",
              "      <th></th>\n",
              "      <th></th>\n",
              "      <th></th>\n",
              "    </tr>\n",
              "  </thead>\n",
              "  <tbody>\n",
              "    <tr>\n",
              "      <th>Men's Apparel</th>\n",
              "      <td>2876971.09</td>\n",
              "      <td>7030470.0</td>\n",
              "      <td>17060</td>\n",
              "    </tr>\n",
              "    <tr>\n",
              "      <th>Men's Athletic Footwear</th>\n",
              "      <td>2657923.14</td>\n",
              "      <td>9721277.0</td>\n",
              "      <td>25755</td>\n",
              "    </tr>\n",
              "    <tr>\n",
              "      <th>Men's Street Footwear</th>\n",
              "      <td>5213987.70</td>\n",
              "      <td>11515677.0</td>\n",
              "      <td>31372</td>\n",
              "    </tr>\n",
              "    <tr>\n",
              "      <th>Women's Apparel</th>\n",
              "      <td>2162116.63</td>\n",
              "      <td>9605280.0</td>\n",
              "      <td>22954</td>\n",
              "    </tr>\n",
              "    <tr>\n",
              "      <th>Women's Athletic Footwear</th>\n",
              "      <td>2398964.20</td>\n",
              "      <td>6889592.0</td>\n",
              "      <td>19980</td>\n",
              "    </tr>\n",
              "    <tr>\n",
              "      <th>Women's Street Footwear</th>\n",
              "      <td>3022311.95</td>\n",
              "      <td>8014382.0</td>\n",
              "      <td>23442</td>\n",
              "    </tr>\n",
              "  </tbody>\n",
              "</table>\n",
              "</div>\n",
              "      <button class=\"colab-df-convert\" onclick=\"convertToInteractive('df-6d47aae8-e5eb-4b4a-aee2-7ddd941be1ba')\"\n",
              "              title=\"Convert this dataframe to an interactive table.\"\n",
              "              style=\"display:none;\">\n",
              "        \n",
              "  <svg xmlns=\"http://www.w3.org/2000/svg\" height=\"24px\"viewBox=\"0 0 24 24\"\n",
              "       width=\"24px\">\n",
              "    <path d=\"M0 0h24v24H0V0z\" fill=\"none\"/>\n",
              "    <path d=\"M18.56 5.44l.94 2.06.94-2.06 2.06-.94-2.06-.94-.94-2.06-.94 2.06-2.06.94zm-11 1L8.5 8.5l.94-2.06 2.06-.94-2.06-.94L8.5 2.5l-.94 2.06-2.06.94zm10 10l.94 2.06.94-2.06 2.06-.94-2.06-.94-.94-2.06-.94 2.06-2.06.94z\"/><path d=\"M17.41 7.96l-1.37-1.37c-.4-.4-.92-.59-1.43-.59-.52 0-1.04.2-1.43.59L10.3 9.45l-7.72 7.72c-.78.78-.78 2.05 0 2.83L4 21.41c.39.39.9.59 1.41.59.51 0 1.02-.2 1.41-.59l7.78-7.78 2.81-2.81c.8-.78.8-2.07 0-2.86zM5.41 20L4 18.59l7.72-7.72 1.47 1.35L5.41 20z\"/>\n",
              "  </svg>\n",
              "      </button>\n",
              "      \n",
              "  <style>\n",
              "    .colab-df-container {\n",
              "      display:flex;\n",
              "      flex-wrap:wrap;\n",
              "      gap: 12px;\n",
              "    }\n",
              "\n",
              "    .colab-df-convert {\n",
              "      background-color: #E8F0FE;\n",
              "      border: none;\n",
              "      border-radius: 50%;\n",
              "      cursor: pointer;\n",
              "      display: none;\n",
              "      fill: #1967D2;\n",
              "      height: 32px;\n",
              "      padding: 0 0 0 0;\n",
              "      width: 32px;\n",
              "    }\n",
              "\n",
              "    .colab-df-convert:hover {\n",
              "      background-color: #E2EBFA;\n",
              "      box-shadow: 0px 1px 2px rgba(60, 64, 67, 0.3), 0px 1px 3px 1px rgba(60, 64, 67, 0.15);\n",
              "      fill: #174EA6;\n",
              "    }\n",
              "\n",
              "    [theme=dark] .colab-df-convert {\n",
              "      background-color: #3B4455;\n",
              "      fill: #D2E3FC;\n",
              "    }\n",
              "\n",
              "    [theme=dark] .colab-df-convert:hover {\n",
              "      background-color: #434B5C;\n",
              "      box-shadow: 0px 1px 3px 1px rgba(0, 0, 0, 0.15);\n",
              "      filter: drop-shadow(0px 1px 2px rgba(0, 0, 0, 0.3));\n",
              "      fill: #FFFFFF;\n",
              "    }\n",
              "  </style>\n",
              "\n",
              "      <script>\n",
              "        const buttonEl =\n",
              "          document.querySelector('#df-6d47aae8-e5eb-4b4a-aee2-7ddd941be1ba button.colab-df-convert');\n",
              "        buttonEl.style.display =\n",
              "          google.colab.kernel.accessAllowed ? 'block' : 'none';\n",
              "\n",
              "        async function convertToInteractive(key) {\n",
              "          const element = document.querySelector('#df-6d47aae8-e5eb-4b4a-aee2-7ddd941be1ba');\n",
              "          const dataTable =\n",
              "            await google.colab.kernel.invokeFunction('convertToInteractive',\n",
              "                                                     [key], {});\n",
              "          if (!dataTable) return;\n",
              "\n",
              "          const docLinkHtml = 'Like what you see? Visit the ' +\n",
              "            '<a target=\"_blank\" href=https://colab.research.google.com/notebooks/data_table.ipynb>data table notebook</a>'\n",
              "            + ' to learn more about interactive tables.';\n",
              "          element.innerHTML = '';\n",
              "          dataTable['output_type'] = 'display_data';\n",
              "          await google.colab.output.renderOutput(dataTable, element);\n",
              "          const docLink = document.createElement('div');\n",
              "          docLink.innerHTML = docLinkHtml;\n",
              "          element.appendChild(docLink);\n",
              "        }\n",
              "      </script>\n",
              "    </div>\n",
              "  </div>\n",
              "  "
            ]
          },
          "metadata": {}
        }
      ]
    },
    {
      "cell_type": "code",
      "source": [
        "# 9.\tFind the no of units sold of each product by each retailer in every city.\n",
        "df.groupby(['Retailer','Product','City'])['Units Sold'].sum()"
      ],
      "metadata": {
        "colab": {
          "base_uri": "https://localhost:8080/"
        },
        "id": "FyiorpRCBK-1",
        "outputId": "a2be4cf2-b4a4-40a2-a5e5-238c296e982d"
      },
      "execution_count": null,
      "outputs": [
        {
          "output_type": "execute_result",
          "data": {
            "text/plain": [
              "Retailer   Product                  City          \n",
              "Amazon     Men's Apparel            Anchorage          2990\n",
              "                                    Boston             1235\n",
              "                                    Burlington         4607\n",
              "                                    Charlotte          1447\n",
              "                                    Columbus           6054\n",
              "                                                      ...  \n",
              "West Gear  Women's Street Footwear  Portland           9168\n",
              "                                    Salt Lake City     7303\n",
              "                                    San Francisco     13346\n",
              "                                    Seattle            6888\n",
              "                                    St. Louis          1678\n",
              "Name: Units Sold, Length: 618, dtype: int64"
            ]
          },
          "metadata": {},
          "execution_count": 12
        }
      ]
    },
    {
      "cell_type": "code",
      "source": [
        "#10.\tFind the products with different price per unit in different cities with proper information.\n",
        "df.groupby(['Retailer','Product','City'])['Units Sold'].sum()"
      ],
      "metadata": {
        "colab": {
          "base_uri": "https://localhost:8080/"
        },
        "id": "kSpu_TwSB7tc",
        "outputId": "3497e08d-ad39-473f-a3d7-3799719d6358"
      },
      "execution_count": null,
      "outputs": [
        {
          "output_type": "execute_result",
          "data": {
            "text/plain": [
              "Retailer   Product                  City          \n",
              "Amazon     Men's Apparel            Anchorage          2990\n",
              "                                    Boston             1235\n",
              "                                    Burlington         4607\n",
              "                                    Charlotte          1447\n",
              "                                    Columbus           6054\n",
              "                                                      ...  \n",
              "West Gear  Women's Street Footwear  Portland           9168\n",
              "                                    Salt Lake City     7303\n",
              "                                    San Francisco     13346\n",
              "                                    Seattle            6888\n",
              "                                    St. Louis          1678\n",
              "Name: Units Sold, Length: 618, dtype: int64"
            ]
          },
          "metadata": {},
          "execution_count": 13
        }
      ]
    },
    {
      "cell_type": "code",
      "source": [
        "# 11.Find the total sales &profits of all products in every month.\n",
        "df['month'] = pd.DatetimeIndex(df['Invoice Date']).month\n",
        "monthly_sales_and_profit = df.groupby([df['Invoice Date'].dt.month, 'Product'])['Total Sales','Operating Profit'].sum()\n",
        "print(monthly_sales_and_profit)"
      ],
      "metadata": {
        "colab": {
          "base_uri": "https://localhost:8080/"
        },
        "id": "tCPcqpc0uyP2",
        "outputId": "5d97ba85-6b8a-4049-99d1-2a6f5fa4689b"
      },
      "execution_count": null,
      "outputs": [
        {
          "output_type": "stream",
          "name": "stdout",
          "text": [
            "                                        Total Sales  Operating Profit\n",
            "Invoice Date Product                                                 \n",
            "1            Men's Apparel               10253418.0        4140975.27\n",
            "             Men's Athletic Footwear     13091636.0        3858129.77\n",
            "             Men's Street Footwear       15594195.0        6355611.78\n",
            "             Women's Apparel             13353328.0        3945335.36\n",
            "             Women's Athletic Footwear    8347337.0        2897686.87\n",
            "...                                             ...               ...\n",
            "12           Men's Athletic Footwear     14260277.0        4933741.04\n",
            "             Men's Street Footwear       21065269.0        8326619.99\n",
            "             Women's Apparel             16601172.0        6400338.99\n",
            "             Women's Athletic Footwear   10738917.0        3817987.76\n",
            "             Women's Street Footwear     11499517.0        4047079.39\n",
            "\n",
            "[72 rows x 2 columns]\n"
          ]
        },
        {
          "output_type": "stream",
          "name": "stderr",
          "text": [
            "<ipython-input-14-d4950ae2d47f>:3: FutureWarning: Indexing with multiple keys (implicitly converted to a tuple of keys) will be deprecated, use a list instead.\n",
            "  monthly_sales_and_profit = df.groupby([df['Invoice Date'].dt.month, 'Product'])['Total Sales','Operating Profit'].sum()\n"
          ]
        }
      ]
    },
    {
      "cell_type": "code",
      "source": [
        "#12.\tFind the total sales &profit of the products in different sales methods in each city\n",
        "df4=df.groupby(['City','Sales Method'])['Operating Profit','Total Sales'].sum()\n",
        "display(df4.dropna())"
      ],
      "metadata": {
        "colab": {
          "base_uri": "https://localhost:8080/",
          "height": 490
        },
        "id": "R0yqpFR7wgwe",
        "outputId": "0c3cf737-e020-4e45-b6be-92512f80a7a5"
      },
      "execution_count": null,
      "outputs": [
        {
          "output_type": "stream",
          "name": "stderr",
          "text": [
            "<ipython-input-15-41fb77dac388>:2: FutureWarning: Indexing with multiple keys (implicitly converted to a tuple of keys) will be deprecated, use a list instead.\n",
            "  df4=df.groupby(['City','Sales Method'])['Operating Profit','Total Sales'].sum()\n"
          ]
        },
        {
          "output_type": "display_data",
          "data": {
            "text/plain": [
              "                          Operating Profit  Total Sales\n",
              "City        Sales Method                               \n",
              "Albany      In-store            9121062.50   23815000.0\n",
              "            Online               308788.41     612804.0\n",
              "Albuquerque Online              6569814.43   19424023.0\n",
              "            Outlet               168245.98     440993.0\n",
              "Anchorage   Online               158133.36     372353.0\n",
              "...                                    ...          ...\n",
              "St. Louis   In-store            3778625.00    9437500.0\n",
              "            Online               128584.36     245765.0\n",
              "Wichita     Online              3510147.29    9972864.0\n",
              "Wilmington  In-store            4373362.50   11988750.0\n",
              "            Online               150987.56     309662.0\n",
              "\n",
              "[112 rows x 2 columns]"
            ],
            "text/html": [
              "\n",
              "  <div id=\"df-b48c798b-8bed-463f-a89f-6e3e4cda32b0\">\n",
              "    <div class=\"colab-df-container\">\n",
              "      <div>\n",
              "<style scoped>\n",
              "    .dataframe tbody tr th:only-of-type {\n",
              "        vertical-align: middle;\n",
              "    }\n",
              "\n",
              "    .dataframe tbody tr th {\n",
              "        vertical-align: top;\n",
              "    }\n",
              "\n",
              "    .dataframe thead th {\n",
              "        text-align: right;\n",
              "    }\n",
              "</style>\n",
              "<table border=\"1\" class=\"dataframe\">\n",
              "  <thead>\n",
              "    <tr style=\"text-align: right;\">\n",
              "      <th></th>\n",
              "      <th></th>\n",
              "      <th>Operating Profit</th>\n",
              "      <th>Total Sales</th>\n",
              "    </tr>\n",
              "    <tr>\n",
              "      <th>City</th>\n",
              "      <th>Sales Method</th>\n",
              "      <th></th>\n",
              "      <th></th>\n",
              "    </tr>\n",
              "  </thead>\n",
              "  <tbody>\n",
              "    <tr>\n",
              "      <th rowspan=\"2\" valign=\"top\">Albany</th>\n",
              "      <th>In-store</th>\n",
              "      <td>9121062.50</td>\n",
              "      <td>23815000.0</td>\n",
              "    </tr>\n",
              "    <tr>\n",
              "      <th>Online</th>\n",
              "      <td>308788.41</td>\n",
              "      <td>612804.0</td>\n",
              "    </tr>\n",
              "    <tr>\n",
              "      <th rowspan=\"2\" valign=\"top\">Albuquerque</th>\n",
              "      <th>Online</th>\n",
              "      <td>6569814.43</td>\n",
              "      <td>19424023.0</td>\n",
              "    </tr>\n",
              "    <tr>\n",
              "      <th>Outlet</th>\n",
              "      <td>168245.98</td>\n",
              "      <td>440993.0</td>\n",
              "    </tr>\n",
              "    <tr>\n",
              "      <th>Anchorage</th>\n",
              "      <th>Online</th>\n",
              "      <td>158133.36</td>\n",
              "      <td>372353.0</td>\n",
              "    </tr>\n",
              "    <tr>\n",
              "      <th>...</th>\n",
              "      <th>...</th>\n",
              "      <td>...</td>\n",
              "      <td>...</td>\n",
              "    </tr>\n",
              "    <tr>\n",
              "      <th rowspan=\"2\" valign=\"top\">St. Louis</th>\n",
              "      <th>In-store</th>\n",
              "      <td>3778625.00</td>\n",
              "      <td>9437500.0</td>\n",
              "    </tr>\n",
              "    <tr>\n",
              "      <th>Online</th>\n",
              "      <td>128584.36</td>\n",
              "      <td>245765.0</td>\n",
              "    </tr>\n",
              "    <tr>\n",
              "      <th>Wichita</th>\n",
              "      <th>Online</th>\n",
              "      <td>3510147.29</td>\n",
              "      <td>9972864.0</td>\n",
              "    </tr>\n",
              "    <tr>\n",
              "      <th rowspan=\"2\" valign=\"top\">Wilmington</th>\n",
              "      <th>In-store</th>\n",
              "      <td>4373362.50</td>\n",
              "      <td>11988750.0</td>\n",
              "    </tr>\n",
              "    <tr>\n",
              "      <th>Online</th>\n",
              "      <td>150987.56</td>\n",
              "      <td>309662.0</td>\n",
              "    </tr>\n",
              "  </tbody>\n",
              "</table>\n",
              "<p>112 rows × 2 columns</p>\n",
              "</div>\n",
              "      <button class=\"colab-df-convert\" onclick=\"convertToInteractive('df-b48c798b-8bed-463f-a89f-6e3e4cda32b0')\"\n",
              "              title=\"Convert this dataframe to an interactive table.\"\n",
              "              style=\"display:none;\">\n",
              "        \n",
              "  <svg xmlns=\"http://www.w3.org/2000/svg\" height=\"24px\"viewBox=\"0 0 24 24\"\n",
              "       width=\"24px\">\n",
              "    <path d=\"M0 0h24v24H0V0z\" fill=\"none\"/>\n",
              "    <path d=\"M18.56 5.44l.94 2.06.94-2.06 2.06-.94-2.06-.94-.94-2.06-.94 2.06-2.06.94zm-11 1L8.5 8.5l.94-2.06 2.06-.94-2.06-.94L8.5 2.5l-.94 2.06-2.06.94zm10 10l.94 2.06.94-2.06 2.06-.94-2.06-.94-.94-2.06-.94 2.06-2.06.94z\"/><path d=\"M17.41 7.96l-1.37-1.37c-.4-.4-.92-.59-1.43-.59-.52 0-1.04.2-1.43.59L10.3 9.45l-7.72 7.72c-.78.78-.78 2.05 0 2.83L4 21.41c.39.39.9.59 1.41.59.51 0 1.02-.2 1.41-.59l7.78-7.78 2.81-2.81c.8-.78.8-2.07 0-2.86zM5.41 20L4 18.59l7.72-7.72 1.47 1.35L5.41 20z\"/>\n",
              "  </svg>\n",
              "      </button>\n",
              "      \n",
              "  <style>\n",
              "    .colab-df-container {\n",
              "      display:flex;\n",
              "      flex-wrap:wrap;\n",
              "      gap: 12px;\n",
              "    }\n",
              "\n",
              "    .colab-df-convert {\n",
              "      background-color: #E8F0FE;\n",
              "      border: none;\n",
              "      border-radius: 50%;\n",
              "      cursor: pointer;\n",
              "      display: none;\n",
              "      fill: #1967D2;\n",
              "      height: 32px;\n",
              "      padding: 0 0 0 0;\n",
              "      width: 32px;\n",
              "    }\n",
              "\n",
              "    .colab-df-convert:hover {\n",
              "      background-color: #E2EBFA;\n",
              "      box-shadow: 0px 1px 2px rgba(60, 64, 67, 0.3), 0px 1px 3px 1px rgba(60, 64, 67, 0.15);\n",
              "      fill: #174EA6;\n",
              "    }\n",
              "\n",
              "    [theme=dark] .colab-df-convert {\n",
              "      background-color: #3B4455;\n",
              "      fill: #D2E3FC;\n",
              "    }\n",
              "\n",
              "    [theme=dark] .colab-df-convert:hover {\n",
              "      background-color: #434B5C;\n",
              "      box-shadow: 0px 1px 3px 1px rgba(0, 0, 0, 0.15);\n",
              "      filter: drop-shadow(0px 1px 2px rgba(0, 0, 0, 0.3));\n",
              "      fill: #FFFFFF;\n",
              "    }\n",
              "  </style>\n",
              "\n",
              "      <script>\n",
              "        const buttonEl =\n",
              "          document.querySelector('#df-b48c798b-8bed-463f-a89f-6e3e4cda32b0 button.colab-df-convert');\n",
              "        buttonEl.style.display =\n",
              "          google.colab.kernel.accessAllowed ? 'block' : 'none';\n",
              "\n",
              "        async function convertToInteractive(key) {\n",
              "          const element = document.querySelector('#df-b48c798b-8bed-463f-a89f-6e3e4cda32b0');\n",
              "          const dataTable =\n",
              "            await google.colab.kernel.invokeFunction('convertToInteractive',\n",
              "                                                     [key], {});\n",
              "          if (!dataTable) return;\n",
              "\n",
              "          const docLinkHtml = 'Like what you see? Visit the ' +\n",
              "            '<a target=\"_blank\" href=https://colab.research.google.com/notebooks/data_table.ipynb>data table notebook</a>'\n",
              "            + ' to learn more about interactive tables.';\n",
              "          element.innerHTML = '';\n",
              "          dataTable['output_type'] = 'display_data';\n",
              "          await google.colab.output.renderOutput(dataTable, element);\n",
              "          const docLink = document.createElement('div');\n",
              "          docLink.innerHTML = docLinkHtml;\n",
              "          element.appendChild(docLink);\n",
              "        }\n",
              "      </script>\n",
              "    </div>\n",
              "  </div>\n",
              "  "
            ]
          },
          "metadata": {}
        }
      ]
    },
    {
      "cell_type": "code",
      "source": [
        "#13.\tFind the retailers who sold the same product with different prices in different cities.\n",
        "df5=df.groupby(['Retailer','Retailer ID','Price per Unit','City'])['Product'].nunique()\n",
        "df5=df5[df5>1]\n",
        "print(df5)"
      ],
      "metadata": {
        "colab": {
          "base_uri": "https://localhost:8080/"
        },
        "id": "o9ely82WxX4N",
        "outputId": "09aec789-71f3-47a8-b7a6-fa237c5fce98"
      },
      "execution_count": null,
      "outputs": [
        {
          "output_type": "stream",
          "name": "stdout",
          "text": [
            "Retailer   Retailer ID  Price per Unit  City         \n",
            "Amazon     1185732      24.0            Columbus         2\n",
            "                        25.0            Columbus         2\n",
            "                        27.0            Columbus         3\n",
            "                        28.0            Columbus         4\n",
            "                        29.0            Columbus         4\n",
            "                                                        ..\n",
            "West Gear  1197831      55.0            Boise            2\n",
            "                                        Oklahoma City    2\n",
            "                        60.0            Oklahoma City    3\n",
            "                                        Little Rock      3\n",
            "                        70.0            Little Rock      3\n",
            "Name: Product, Length: 1735, dtype: int64\n"
          ]
        }
      ]
    },
    {
      "cell_type": "code",
      "source": [
        "#14.\tFind the products whose sales raises in every month.\n",
        "product_sales = df.groupby(['Product','month'])['Total Sales'].sum().reset_index()\n",
        "df6= product_sales.groupby('Product')['Total Sales'].diff().ge(0).all()\n",
        "print(df6)"
      ],
      "metadata": {
        "colab": {
          "base_uri": "https://localhost:8080/"
        },
        "id": "GEaE3Y9d0zGP",
        "outputId": "eec56412-3f0f-41ec-cb8c-bfe3d2886f80"
      },
      "execution_count": null,
      "outputs": [
        {
          "output_type": "stream",
          "name": "stdout",
          "text": [
            "False\n"
          ]
        }
      ]
    },
    {
      "cell_type": "code",
      "source": [
        "df = df.groupby(['Product','Invoice Date'])['Units Sold'].sum().reset_index()\n",
        "\n",
        "df['prev_units_sold'] = df.groupby(['Product'])['Units Sold'].shift(1)\n",
        "\n",
        "# Create a new column to hold the difference between current and previous month's units sold\n",
        "df['difference']=df['Units Sold']-df['prev_units_sold']\n",
        "\n",
        "#Filter only the products with positive difference\n",
        "df=df[df['difference']>0]\n",
        "\n",
        "# Group the data by product and check if the difference column is greater than zero for all months\n",
        "df = df.groupby(['Product'])['difference'].all()\n",
        "\n",
        "# Filter only the products that has positive difference for all months\n",
        "df=df[df==True]\n",
        "\n",
        "print(df)\n"
      ],
      "metadata": {
        "colab": {
          "base_uri": "https://localhost:8080/"
        },
        "id": "ytCxBUHpEzkS",
        "outputId": "f34f8f1d-543c-4f2f-f2b7-0e5e927bf00b"
      },
      "execution_count": null,
      "outputs": [
        {
          "output_type": "error",
          "ename": "KeyError",
          "evalue": "ignored",
          "traceback": [
            "\u001b[0;31m---------------------------------------------------------------------------\u001b[0m",
            "\u001b[0;31mKeyError\u001b[0m                                  Traceback (most recent call last)",
            "\u001b[0;32m<ipython-input-27-4cf89cc1bb9a>\u001b[0m in \u001b[0;36m<module>\u001b[0;34m\u001b[0m\n\u001b[0;32m----> 1\u001b[0;31m \u001b[0mdf\u001b[0m \u001b[0;34m=\u001b[0m \u001b[0mdf\u001b[0m\u001b[0;34m.\u001b[0m\u001b[0mgroupby\u001b[0m\u001b[0;34m(\u001b[0m\u001b[0;34m[\u001b[0m\u001b[0;34m'Product'\u001b[0m\u001b[0;34m,\u001b[0m\u001b[0;34m'Invoice Date'\u001b[0m\u001b[0;34m]\u001b[0m\u001b[0;34m)\u001b[0m\u001b[0;34m[\u001b[0m\u001b[0;34m'Units Sold'\u001b[0m\u001b[0;34m]\u001b[0m\u001b[0;34m.\u001b[0m\u001b[0msum\u001b[0m\u001b[0;34m(\u001b[0m\u001b[0;34m)\u001b[0m\u001b[0;34m.\u001b[0m\u001b[0mreset_index\u001b[0m\u001b[0;34m(\u001b[0m\u001b[0;34m)\u001b[0m\u001b[0;34m\u001b[0m\u001b[0;34m\u001b[0m\u001b[0m\n\u001b[0m\u001b[1;32m      2\u001b[0m \u001b[0;34m\u001b[0m\u001b[0m\n\u001b[1;32m      3\u001b[0m \u001b[0mdf\u001b[0m\u001b[0;34m[\u001b[0m\u001b[0;34m'prev_units_sold'\u001b[0m\u001b[0;34m]\u001b[0m \u001b[0;34m=\u001b[0m \u001b[0mdf\u001b[0m\u001b[0;34m.\u001b[0m\u001b[0mgroupby\u001b[0m\u001b[0;34m(\u001b[0m\u001b[0;34m[\u001b[0m\u001b[0;34m'Product'\u001b[0m\u001b[0;34m]\u001b[0m\u001b[0;34m)\u001b[0m\u001b[0;34m[\u001b[0m\u001b[0;34m'Units Sold'\u001b[0m\u001b[0;34m]\u001b[0m\u001b[0;34m.\u001b[0m\u001b[0mshift\u001b[0m\u001b[0;34m(\u001b[0m\u001b[0;36m1\u001b[0m\u001b[0;34m)\u001b[0m\u001b[0;34m\u001b[0m\u001b[0;34m\u001b[0m\u001b[0m\n\u001b[1;32m      4\u001b[0m \u001b[0;34m\u001b[0m\u001b[0m\n\u001b[1;32m      5\u001b[0m \u001b[0;31m# Create a new column to hold the difference between current and previous month's units sold\u001b[0m\u001b[0;34m\u001b[0m\u001b[0;34m\u001b[0m\u001b[0;34m\u001b[0m\u001b[0m\n",
            "\u001b[0;32m/usr/local/lib/python3.8/dist-packages/pandas/core/series.py\u001b[0m in \u001b[0;36mgroupby\u001b[0;34m(self, by, axis, level, as_index, sort, group_keys, squeeze, observed, dropna)\u001b[0m\n\u001b[1;32m   1882\u001b[0m         \u001b[0;31m# error: Argument \"squeeze\" to \"SeriesGroupBy\" has incompatible type\u001b[0m\u001b[0;34m\u001b[0m\u001b[0;34m\u001b[0m\u001b[0;34m\u001b[0m\u001b[0m\n\u001b[1;32m   1883\u001b[0m         \u001b[0;31m# \"Union[bool, NoDefault]\"; expected \"bool\"\u001b[0m\u001b[0;34m\u001b[0m\u001b[0;34m\u001b[0m\u001b[0;34m\u001b[0m\u001b[0m\n\u001b[0;32m-> 1884\u001b[0;31m         return SeriesGroupBy(\n\u001b[0m\u001b[1;32m   1885\u001b[0m             \u001b[0mobj\u001b[0m\u001b[0;34m=\u001b[0m\u001b[0mself\u001b[0m\u001b[0;34m,\u001b[0m\u001b[0;34m\u001b[0m\u001b[0;34m\u001b[0m\u001b[0m\n\u001b[1;32m   1886\u001b[0m             \u001b[0mkeys\u001b[0m\u001b[0;34m=\u001b[0m\u001b[0mby\u001b[0m\u001b[0;34m,\u001b[0m\u001b[0;34m\u001b[0m\u001b[0;34m\u001b[0m\u001b[0m\n",
            "\u001b[0;32m/usr/local/lib/python3.8/dist-packages/pandas/core/groupby/groupby.py\u001b[0m in \u001b[0;36m__init__\u001b[0;34m(self, obj, keys, axis, level, grouper, exclusions, selection, as_index, sort, group_keys, squeeze, observed, mutated, dropna)\u001b[0m\n\u001b[1;32m    887\u001b[0m             \u001b[0;32mfrom\u001b[0m \u001b[0mpandas\u001b[0m\u001b[0;34m.\u001b[0m\u001b[0mcore\u001b[0m\u001b[0;34m.\u001b[0m\u001b[0mgroupby\u001b[0m\u001b[0;34m.\u001b[0m\u001b[0mgrouper\u001b[0m \u001b[0;32mimport\u001b[0m \u001b[0mget_grouper\u001b[0m\u001b[0;34m\u001b[0m\u001b[0;34m\u001b[0m\u001b[0m\n\u001b[1;32m    888\u001b[0m \u001b[0;34m\u001b[0m\u001b[0m\n\u001b[0;32m--> 889\u001b[0;31m             grouper, exclusions, obj = get_grouper(\n\u001b[0m\u001b[1;32m    890\u001b[0m                 \u001b[0mobj\u001b[0m\u001b[0;34m,\u001b[0m\u001b[0;34m\u001b[0m\u001b[0;34m\u001b[0m\u001b[0m\n\u001b[1;32m    891\u001b[0m                 \u001b[0mkeys\u001b[0m\u001b[0;34m,\u001b[0m\u001b[0;34m\u001b[0m\u001b[0;34m\u001b[0m\u001b[0m\n",
            "\u001b[0;32m/usr/local/lib/python3.8/dist-packages/pandas/core/groupby/grouper.py\u001b[0m in \u001b[0;36mget_grouper\u001b[0;34m(obj, key, axis, level, sort, observed, mutated, validate, dropna)\u001b[0m\n\u001b[1;32m    860\u001b[0m                 \u001b[0min_axis\u001b[0m\u001b[0;34m,\u001b[0m \u001b[0mlevel\u001b[0m\u001b[0;34m,\u001b[0m \u001b[0mgpr\u001b[0m \u001b[0;34m=\u001b[0m \u001b[0;32mFalse\u001b[0m\u001b[0;34m,\u001b[0m \u001b[0mgpr\u001b[0m\u001b[0;34m,\u001b[0m \u001b[0;32mNone\u001b[0m\u001b[0;34m\u001b[0m\u001b[0;34m\u001b[0m\u001b[0m\n\u001b[1;32m    861\u001b[0m             \u001b[0;32melse\u001b[0m\u001b[0;34m:\u001b[0m\u001b[0;34m\u001b[0m\u001b[0;34m\u001b[0m\u001b[0m\n\u001b[0;32m--> 862\u001b[0;31m                 \u001b[0;32mraise\u001b[0m \u001b[0mKeyError\u001b[0m\u001b[0;34m(\u001b[0m\u001b[0mgpr\u001b[0m\u001b[0;34m)\u001b[0m\u001b[0;34m\u001b[0m\u001b[0;34m\u001b[0m\u001b[0m\n\u001b[0m\u001b[1;32m    863\u001b[0m         \u001b[0;32melif\u001b[0m \u001b[0misinstance\u001b[0m\u001b[0;34m(\u001b[0m\u001b[0mgpr\u001b[0m\u001b[0;34m,\u001b[0m \u001b[0mGrouper\u001b[0m\u001b[0;34m)\u001b[0m \u001b[0;32mand\u001b[0m \u001b[0mgpr\u001b[0m\u001b[0;34m.\u001b[0m\u001b[0mkey\u001b[0m \u001b[0;32mis\u001b[0m \u001b[0;32mnot\u001b[0m \u001b[0;32mNone\u001b[0m\u001b[0;34m:\u001b[0m\u001b[0;34m\u001b[0m\u001b[0;34m\u001b[0m\u001b[0m\n\u001b[1;32m    864\u001b[0m             \u001b[0;31m# Add key to exclusions\u001b[0m\u001b[0;34m\u001b[0m\u001b[0;34m\u001b[0m\u001b[0;34m\u001b[0m\u001b[0m\n",
            "\u001b[0;31mKeyError\u001b[0m: 'Invoice Date'"
          ]
        }
      ]
    },
    {
      "cell_type": "code",
      "source": [
        "#15.\tFind the retailers whose profit increased every month.\n",
        "retailer_profit = df.groupby(['Retailer', 'month'])['Operating Profit'].sum().reset_index()\n",
        "retailers = retailer_profit.groupby('Retailer')['Operating Profit'].diff().ge(0).all()\n",
        "print(retailers)"
      ],
      "metadata": {
        "id": "gaIjYIpn07oY",
        "colab": {
          "base_uri": "https://localhost:8080/"
        },
        "outputId": "4c19f442-b4b0-4fcc-80c6-5b1849e9f61f"
      },
      "execution_count": null,
      "outputs": [
        {
          "output_type": "stream",
          "name": "stdout",
          "text": [
            "False\n"
          ]
        }
      ]
    }
  ]
}